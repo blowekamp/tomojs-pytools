{
 "cells": [
  {
   "cell_type": "code",
   "execution_count": null,
   "id": "dc8e259402bd08ed",
   "metadata": {
    "collapsed": false
   },
   "outputs": [],
   "source": [
    "import neuroglancer.static_file_server\n",
    "from pytools.ng.viz import add_zarr_image, add_roi_annotations\n",
    "from pathlib import Path\n",
    "from dask.distributed import LocalCluster\n"
   ]
  },
  {
   "cell_type": "code",
   "execution_count": null,
   "id": "c9f6936c-b7d9-4a10-8ad5-347d050fcca9",
   "metadata": {},
   "outputs": [],
   "source": [
    "\n",
    "cluster = LocalCluster()\n",
    "client = cluster.get_client()\n",
    "\n",
    "file_dir = Path(\"/Users/blowekamp/scratch/hedwig/TestData/Nanostringfiles/ROI Alignment Images for Brad/\")\n",
    "server = neuroglancer.static_file_server.StaticFileServer(\n",
    "        static_dir=file_dir, bind_address=\"localhost\", daemon=True\n",
    "    )\n",
    "viewer = neuroglancer.Viewer()"
   ]
  },
  {
   "cell_type": "code",
   "outputs": [],
   "source": [
    "with viewer.txn() as s:\n",
    "  dimensions = neuroglancer.CoordinateSpace( names=[\"x\", \"y\", \"z\"], units =[\"µm\",\"µm\", \"µm\"], scales=[1,1,1])\n",
    "  s.dimensions = dimensions\n",
    "  s.layout = neuroglancer.DataPanelLayout(\"xy\")\n",
    "  \n",
    "  s.layers.clear()\n",
    "\n",
    "  add_zarr_image(s, file_dir/\"IA_P2_S1.ome.zarr/0\", server_url=server.url)\n",
    "  \n",
    "  add_zarr_image(s, file_dir/\"IA_P2_S4.zarr/0\", server.url, file_dir/\"IA_P2_S4_0_to_roi.txt\")\n",
    "  add_zarr_image(s, file_dir/\"IA_P2_S4.zarr/1\", server.url, file_dir/\"IA_P2_S4_1_to_roi.txt\")\n",
    "  \n",
    "  add_roi_annotations(s, Path(file_dir)/ \"IA_P2_S1.ome.zarr/OME/METADATA.ome.xml\",\n",
    "                      layername=\"roi annotation\",\n",
    "                      reference_zarr=Path(file_dir)/\"IA_P2_S4.ome.zarr\"/\"0\")\n",
    "print(viewer)\n"
   ],
   "metadata": {
    "collapsed": false
   },
   "id": "f2edc1c09ca84ac5",
   "execution_count": null
  },
  {
   "cell_type": "code",
   "execution_count": null,
   "id": "5a96d34fc488b9a6",
   "metadata": {
    "collapsed": false
   },
   "outputs": [],
   "source": [
    "with viewer.txn() as s:\n",
    "  dimensions = neuroglancer.CoordinateSpace( names=[\"x\", \"y\", \"z\"], units =[\"µm\",\"µm\", \"µm\"], scales=[1,1,1])\n",
    "  s.dimensions = dimensions\n",
    "  s.layout = neuroglancer.DataPanelLayout(\"xy\")\n",
    "\n",
    "  s.layers.clear()\n",
    "\n",
    "  add_zarr_image(s, file_dir/\"IA_P2_S2.ome.zarr/0\", server_url=server.url)\n",
    "  \n",
    "  add_zarr_image(s, file_dir/\"IA_P2_S2.zarr/0\", server.url, file_dir/\"IA_P2_S2_0_to_roi.txt\")\n",
    "  add_zarr_image(s, file_dir/\"IA_P2_S2.zarr/1\", server.url, file_dir/\"IA_P2_S2_1_to_roi.txt\")\n",
    " \n",
    "  add_roi_annotations(s, Path(file_dir)/ \"IA_P2_S2.ome.zarr/OME/METADATA.ome.xml\")\n",
    "print(viewer)\n"
   ]
  },
  {
   "cell_type": "code",
   "execution_count": null,
   "id": "31eae17a-1da0-404c-b7ce-d1648a904b14",
   "metadata": {},
   "outputs": [],
   "source": [
    "with viewer.txn() as s:\n",
    "  dimensions = neuroglancer.CoordinateSpace( names=[\"x\", \"y\", \"z\"], units =[\"µm\",\"µm\", \"µm\"], scales=[1,1,1])\n",
    "  s.dimensions = dimensions\n",
    "  s.layout = neuroglancer.DataPanelLayout(\"xy\")\n",
    "  \n",
    "  s.layers.clear()\n",
    "  \n",
    "  add_zarr_image(s, file_dir/\"IA_P2_S3.ome.zarr/0\", server_url=server.url)\n",
    "  \n",
    "  add_zarr_image(s, file_dir/\"IA_P2_S3.zarr/0\", server.url, file_dir/\"IA_P2_S3_0_to_roi.txt\")\n",
    "  add_zarr_image(s, file_dir/\"IA_P2_S3.zarr/1\", server.url, file_dir/\"IA_P2_S3_1_to_roi.txt\")\n",
    "\n",
    "  add_roi_annotations(s, Path(file_dir)/ \"IA_P2_S3.ome.zarr/OME/METADATA.ome.xml\")\n",
    "\n",
    "print(viewer)"
   ]
  },
  {
   "cell_type": "code",
   "execution_count": null,
   "id": "82495f65-5634-45cd-91a3-0792f03dd941",
   "metadata": {},
   "outputs": [],
   "source": [
    "with viewer.txn() as s:\n",
    "  dimensions = neuroglancer.CoordinateSpace( names=[\"x\", \"y\", \"z\"], units =[\"µm\",\"µm\", \"µm\"], scales=[1,1,1])\n",
    "  s.dimensions = dimensions\n",
    "  s.layout = neuroglancer.DataPanelLayout(\"xy\")\n",
    "\n",
    "  s.layers.clear()\n",
    "\n",
    "  add_zarr_image(s, file_dir/\"IA_P2_S4.ome.zarr/0\", server_url=server.url)\n",
    "  \n",
    "  add_zarr_image(s, file_dir/\"IA_P2_S1.zarr/0\", server.url, file_dir/\"IA_P2_S1_0_to_roi.txt\")\n",
    "  add_zarr_image(s, file_dir/\"IA_P2_S1.zarr/1\", server.url, file_dir/\"IA_P2_S1_1_to_roi.txt\")\n",
    "\n",
    "  add_roi_annotations(s, Path(file_dir)/ \"IA_P2_S4.ome.zarr/OME/METADATA.ome.xml\")\n",
    "print(viewer)\n",
    "\n"
   ]
  }
 ],
 "metadata": {
  "kernelspec": {
   "display_name": "Python 3 (ipykernel)",
   "language": "python",
   "name": "python3"
  },
  "language_info": {
   "codemirror_mode": {
    "name": "ipython",
    "version": 3
   },
   "file_extension": ".py",
   "mimetype": "text/x-python",
   "name": "python",
   "nbconvert_exporter": "python",
   "pygments_lexer": "ipython3",
   "version": "3.9.12"
  }
 },
 "nbformat": 4,
 "nbformat_minor": 5
}
